{
 "cells": [
  {
   "cell_type": "code",
   "execution_count": 1,
   "id": "53504b0b-29ba-4835-96ac-ad8c1fbac39a",
   "metadata": {},
   "outputs": [
    {
     "name": "stderr",
     "output_type": "stream",
     "text": [
      "/datasets/vjawa/miniconda3/envs/aug_2_cugraph_dgl/lib/python3.9/site-packages/tqdm/auto.py:22: TqdmWarning: IProgress not found. Please update jupyter and ipywidgets. See https://ipywidgets.readthedocs.io/en/stable/user_install.html\n",
      "  from .autonotebook import tqdm as notebook_tqdm\n"
     ]
    },
    {
     "name": "stdout",
     "output_type": "stream",
     "text": [
      "torch.Size([2, 234355])\n"
     ]
    }
   ],
   "source": [
    "import numpy as np\n",
    "\n",
    "import cudf\n",
    "import pandas as pd\n",
    "import torch\n",
    "from torch.nn import Linear, LayerNorm, ReLU, Dropout\n",
    "import torch.nn.functional as F\n",
    "import torchmetrics.functional as MF\n",
    "from torchmetrics import AUROC\n",
    "from sklearn.metrics import roc_auc_score\n",
    "from sklearn.model_selection import train_test_split\n",
    "import scipy.sparse as sp\n",
    "import warnings\n",
    "warnings.filterwarnings(\"ignore\")\n",
    "from dgl_model import SAGE\n",
    "from read_data import process_ellipitc\n",
    "import dgl\n",
    "from dgl.dataloading import DataLoader, NeighborSampler, MultiLayerFullNeighborSampler\n",
    "import argparse\n",
    "\n",
    "\n",
    "def evaluate(model, graph, dataloader):\n",
    "    model.eval()\n",
    "    ys = []\n",
    "    y_hats = []\n",
    "    for it, (input_nodes, output_nodes, blocks) in enumerate(dataloader):\n",
    "        with torch.no_grad():\n",
    "            x = blocks[0].srcdata['feat']\n",
    "            ys.append(blocks[-1].dstdata['label'])\n",
    "            y_hats.append(model(blocks, x))\n",
    "    #return MF.accuracy(torch.cat(y_hats), torch.cat(ys))\n",
    "    auroc = AUROC(num_classes=2)\n",
    "    return auroc (torch.cat(y_hats), torch.cat(ys))\n",
    "\n",
    "def layerwise_infer(device, graph, nid, model, batch_size):\n",
    "    model.eval()\n",
    "    with torch.no_grad():\n",
    "        pred = model.inference(graph, device, batch_size) # pred in buffer_device\n",
    "        pred = pred[nid]\n",
    "        label = graph.ndata['label'][nid].to(pred.device)\n",
    "        #return MF.accuracy(pred, label)\n",
    "        auroc = AUROC(num_classes=2)\n",
    "        return auroc(torch.cat(y_hats), torch.cat(ys))\n",
    "\n",
    "\n",
    "def train(args, device, g, train_idx, val_idx, model):\n",
    "    # create sampler & dataloader\n",
    "    sampler = NeighborSampler([10, 10, 10],  # fanout for [layer-0, layer-1, layer-2]\n",
    "                              prefetch_node_feats=['feat'],\n",
    "                              prefetch_labels=['label'])\n",
    "    train_dataloader = DataLoader(g, train_idx, sampler, device=device,\n",
    "                                  batch_size=1024, shuffle=True,\n",
    "                                  drop_last=False, num_workers=0)\n",
    "\n",
    "    val_dataloader = DataLoader(g, val_idx, sampler, device=device,\n",
    "                                batch_size=1024, shuffle=True,\n",
    "                                drop_last=False, num_workers=0)\n",
    "\n",
    "    opt = torch.optim.Adam(model.parameters(), lr=1e-3, weight_decay=5e-4)\n",
    "    \n",
    "    for epoch in range(10):\n",
    "        model.train()\n",
    "        total_loss = 0\n",
    "        for it, (input_nodes, output_nodes, blocks) in enumerate(train_dataloader):\n",
    "            x = blocks[0].srcdata['feat']\n",
    "            y = blocks[-1].dstdata['label']\n",
    "            #print(x.dtype)\n",
    "            #print(y.dtype)\n",
    "            y_hat = model(blocks, x)\n",
    "            loss = F.cross_entropy(y_hat, y)\n",
    "            opt.zero_grad()\n",
    "            loss.backward()\n",
    "            opt.step()\n",
    "            total_loss += loss.item()\n",
    "        auroc = evaluate(model, g, val_dataloader)\n",
    "        print(\"Epoch {:05d} | Loss {:.4f} | AUROC {:.4f} \".format(epoch, total_loss / (it+1), auroc))\n",
    "\n",
    "\n",
    "df_features = pd.read_csv('raw/elliptic_txs_features.csv', header=None)\n",
    "df_edges = pd.read_csv(\"raw/elliptic_txs_edgelist.csv\")\n",
    "df_classes =  pd.read_csv(\"raw/elliptic_txs_classes.csv\")\n",
    "\n",
    "node_features, classified_idx, edge_index, weights, labels, y_train = process_ellipitc(df_features, df_edges, df_classes)\n",
    "# converting data to PyGeometric graph data format\n",
    "\n",
    "X_train, X_valid, y_train, y_valid, train_idx, valid_idx = train_test_split(node_features[classified_idx], y_train, classified_idx, test_size=0.15, random_state=42, stratify=y_train)\n",
    "train_idx = torch.LongTensor(train_idx)\n",
    "valid_idx = torch.LongTensor(valid_idx)\n"
   ]
  },
  {
   "cell_type": "markdown",
   "id": "71c0b86a-2cd5-4529-b014-30c9a2b433d8",
   "metadata": {},
   "source": [
    "# Cugraph Training"
   ]
  },
  {
   "cell_type": "markdown",
   "id": "42cc1673-bc73-4ee5-84ec-894c5be1594d",
   "metadata": {},
   "source": [
    "### CuGraphStorage Construction"
   ]
  },
  {
   "cell_type": "code",
   "execution_count": 2,
   "id": "f74ccac6-627a-44ae-98bf-5705d2400f26",
   "metadata": {},
   "outputs": [],
   "source": [
    "from torch.utils.dlpack import to_dlpack\n",
    "import cupy as cp\n",
    "\n",
    "def convert_to_column_major(t):\n",
    "    return t.t().contiguous().t()\n",
    "\n",
    "### Converting from tensors to cudf\n",
    "edge_df = cudf.from_dlpack(to_dlpack(convert_to_column_major(edge_index.t())))\n",
    "edge_df['edge_id'] = cp.arange(0,len(edge_df))\n",
    "edge_df.columns = ['src','dst','edge_id']\n",
    "\n",
    "node_feat_df = cudf.from_dlpack(to_dlpack(convert_to_column_major(node_features))).astype(cp.float32)\n",
    "node_feat_df['node_id'] = cp.arange(0,len(node_feat_df))\n",
    "\n",
    "\n",
    "node_label_df = cudf.DataFrame({'label':labels})\n",
    "node_label_df['node_id'] =  cp.arange(0,len(node_label_df))\n",
    "\n",
    "##### creating a Graphstore from cuDF dataframes\n",
    "import cugraph\n",
    "pg = cugraph.experimental.PropertyGraph()\n",
    "# create gs from pg\n",
    "gs = dgl.contrib.cugraph.CuGraphStorage(pg)\n",
    "gs.add_edge_data(edge_df, [\"src\", \"dst\"], \"edge_id\")\n",
    "\n",
    "### Set node type setting to DGL default\n",
    "gs.add_node_data(node_feat_df, \"node_id\", 'feat', ntype='_N')\n",
    "gs.add_node_data(node_label_df, \"node_id\", 'label', ntype='_N')"
   ]
  },
  {
   "cell_type": "markdown",
   "id": "f27fd5ae-6d61-4b94-89ce-802742ee6b0d",
   "metadata": {},
   "source": [
    "### Model Creation"
   ]
  },
  {
   "cell_type": "code",
   "execution_count": 3,
   "id": "8c06995b-82df-4385-aa46-55739fe68e9e",
   "metadata": {},
   "outputs": [],
   "source": [
    "# create GraphSAGE model\n",
    "in_size = gs.ndata['feat'].shape[1]\n",
    "out_size = 2\n",
    "model = SAGE(in_size, 256, out_size).to(torch.device('cuda'))"
   ]
  },
  {
   "cell_type": "markdown",
   "id": "4d9dcf8f-6862-4a14-aaa5-729d8e2a543b",
   "metadata": {},
   "source": [
    "### Training on Graph Store"
   ]
  },
  {
   "cell_type": "code",
   "execution_count": 4,
   "id": "5fef8b3d-aede-4927-8808-00c796a73796",
   "metadata": {},
   "outputs": [
    {
     "name": "stdout",
     "output_type": "stream",
     "text": [
      "Training...\n",
      "Epoch 00000 | Loss 1.0093 | AUROC 0.9047 \n",
      "Epoch 00001 | Loss 0.3802 | AUROC 0.9287 \n",
      "Epoch 00002 | Loss 0.3079 | AUROC 0.9372 \n",
      "Epoch 00003 | Loss 0.2520 | AUROC 0.9446 \n",
      "Epoch 00004 | Loss 0.2117 | AUROC 0.9502 \n",
      "Epoch 00005 | Loss 0.2024 | AUROC 0.9564 \n",
      "Epoch 00006 | Loss 0.1801 | AUROC 0.9582 \n",
      "Epoch 00007 | Loss 0.1622 | AUROC 0.9623 \n",
      "Epoch 00008 | Loss 0.1503 | AUROC 0.9662 \n",
      "Epoch 00009 | Loss 0.1416 | AUROC 0.9682 \n",
      "CPU times: user 36.1 s, sys: 2.78 s, total: 38.9 s\n",
      "Wall time: 32.8 s\n"
     ]
    }
   ],
   "source": [
    "%%time\n",
    "print('Training...')\n",
    "train({}, torch.device('cuda'), gs, train_idx.to('cuda'), valid_idx.to('cuda'), model)"
   ]
  },
  {
   "cell_type": "markdown",
   "id": "f6b064bd-4e5a-4c97-ac3b-2300d29a0356",
   "metadata": {},
   "source": [
    "# DGL Training"
   ]
  },
  {
   "cell_type": "markdown",
   "id": "48b89fe4-6603-4706-bc87-f759eb1b0e52",
   "metadata": {},
   "source": [
    "### DGL Graph Creation"
   ]
  },
  {
   "cell_type": "code",
   "execution_count": 5,
   "id": "5e0b5024-67c5-4069-b862-613d91295d26",
   "metadata": {},
   "outputs": [],
   "source": [
    "g = dgl.graph((edge_index[0],edge_index[1]))\n",
    "g.ndata['feat'] = node_features.to(torch.float)\n",
    "g.ndata['label'] = torch.LongTensor(labels)\n",
    "g = g.to('cuda')"
   ]
  },
  {
   "cell_type": "markdown",
   "id": "077363e8-8e2f-477a-b46d-aa30af45d97b",
   "metadata": {},
   "source": [
    "### Model Creation"
   ]
  },
  {
   "cell_type": "code",
   "execution_count": 9,
   "id": "f4083830-cd61-4d17-bb11-38bb269d0791",
   "metadata": {},
   "outputs": [],
   "source": [
    "# create GraphSAGE model\n",
    "in_size = g.ndata['feat'].shape[1]\n",
    "out_size = 2\n",
    "model = SAGE(in_size, 256, out_size).to(torch.device('cuda'))"
   ]
  },
  {
   "cell_type": "markdown",
   "id": "e3e954b4-67ee-4e4a-9917-fd07b4a44924",
   "metadata": {
    "jp-MarkdownHeadingCollapsed": true,
    "tags": []
   },
   "source": [
    "### Training on DGL Graph"
   ]
  },
  {
   "cell_type": "code",
   "execution_count": 10,
   "id": "feaa7191-b142-4e5a-a98c-f47c42d5c283",
   "metadata": {},
   "outputs": [
    {
     "name": "stdout",
     "output_type": "stream",
     "text": [
      "Training...\n",
      "Epoch 00000 | Loss 0.7836 | AUROC 0.9209 \n",
      "Epoch 00001 | Loss 0.3531 | AUROC 0.9365 \n",
      "Epoch 00002 | Loss 0.2865 | AUROC 0.9438 \n",
      "Epoch 00003 | Loss 0.2319 | AUROC 0.9488 \n",
      "Epoch 00004 | Loss 0.2017 | AUROC 0.9524 \n",
      "Epoch 00005 | Loss 0.1874 | AUROC 0.9576 \n",
      "Epoch 00006 | Loss 0.1671 | AUROC 0.9590 \n",
      "Epoch 00007 | Loss 0.1577 | AUROC 0.9630 \n",
      "Epoch 00008 | Loss 0.1489 | AUROC 0.9626 \n",
      "Epoch 00009 | Loss 0.1423 | AUROC 0.9648 \n",
      "CPU times: user 10.9 s, sys: 257 ms, total: 11.1 s\n",
      "Wall time: 4.79 s\n"
     ]
    }
   ],
   "source": [
    "%%time\n",
    "print('Training...')\n",
    "train({}, torch.device('cuda'), g, train_idx.to('cuda'), valid_idx.to('cuda'), model)"
   ]
  }
 ],
 "metadata": {
  "kernelspec": {
   "display_name": "Python 3 (ipykernel)",
   "language": "python",
   "name": "python3"
  },
  "language_info": {
   "codemirror_mode": {
    "name": "ipython",
    "version": 3
   },
   "file_extension": ".py",
   "mimetype": "text/x-python",
   "name": "python",
   "nbconvert_exporter": "python",
   "pygments_lexer": "ipython3",
   "version": "3.9.13"
  }
 },
 "nbformat": 4,
 "nbformat_minor": 5
}
